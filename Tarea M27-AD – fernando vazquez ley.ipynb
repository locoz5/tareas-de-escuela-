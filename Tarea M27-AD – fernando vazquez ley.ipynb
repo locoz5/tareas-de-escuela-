{
 "cells": [
  {
   "cell_type": "code",
   "execution_count": 2,
   "id": "33d29511-e330-430f-8e9a-34fa6d6b595a",
   "metadata": {},
   "outputs": [
    {
     "name": "stdout",
     "output_type": "stream",
     "text": [
      "\n",
      "--- PERROS: Buscando archivo test.txt ---\n",
      "ERROR: El archivo de perros no existe (FileNotFoundError)\n",
      "\n",
      "--- VACAS: Manejo de errores completo ---\n",
      "ERROR: No puedes tener 0 vacas (ZeroDivisionError)\n",
      "-- Fin del conteo de vacas (siempre se ejecuta) --\n",
      "\n",
      "--- SERPIENTES: Depuración de errores ---\n",
      "ERROR DE TIPO: unsupported operand type(s) for +: 'int' and 'str'\n",
      "Solución: Convertir 'serpientes_coral' a entero\n"
     ]
    }
   ],
   "source": [
    "#%% EJERCICIO 1: PERROS (Manejo básico de excepciones)\n",
    "# Intentamos abrir un archivo que no existe\n",
    "print(\"\\n--- PERROS: Buscando archivo test.txt ---\")\n",
    "try:\n",
    "    with open(\"test.txt\", \"r\") as archivo:\n",
    "        contenido = archivo.read()\n",
    "    print(\"¡Archivo encontrado!\")\n",
    "except FileNotFoundError:\n",
    "    print(\"ERROR: El archivo de perros no existe (FileNotFoundError)\")\n",
    "except Exception as error:\n",
    "    print(f\"ERROR inesperado: {type(error).__name__}\")\n",
    "\n",
    "#%% EJERCICIO 2: VACAS (Try/Except/Else/Finally)\n",
    "print(\"\\n--- VACAS: Manejo de errores completo ---\")\n",
    "try:\n",
    "    litros_leche = 100\n",
    "    num_vacas = 0\n",
    "    promedio = litros_leche / num_vacas\n",
    "except ZeroDivisionError:\n",
    "    print(\"ERROR: No puedes tener 0 vacas (ZeroDivisionError)\")\n",
    "else:\n",
    "    print(f\"Cada vaca produce {promedio} litros\")\n",
    "finally:\n",
    "    print(\"-- Fin del conteo de vacas (siempre se ejecuta) --\")\n",
    "\n",
    "#%% EJERCICIO 3: SERPIENTES (Debugging)\n",
    "print(\"\\n--- SERPIENTES: Depuración de errores ---\")\n",
    "def calcular_promedio_serpientes():\n",
    "    # Variables con errores intencionales\n",
    "    serpientes_cascabel = 5\n",
    "    serpientes_coral = \"3\"  # Error: debería ser número\n",
    "    serpientes_jardin = 0\n",
    "    \n",
    "    total = serpientes_cascabel + serpientes_coral  # TypeError aquí\n",
    "    promedio = total / serpientes_jardin           # ZeroDivisionError aquí\n",
    "    return promedio\n",
    "\n",
    "# Depuración paso a paso\n",
    "try:\n",
    "    resultado = calcular_promedio_serpientes()\n",
    "except TypeError as e:\n",
    "    print(f\"ERROR DE TIPO: {e}\")\n",
    "    print(\"Solución: Convertir 'serpientes_coral' a entero\")\n",
    "except ZeroDivisionError:\n",
    "    print(\"ERROR: No se puede dividir entre cero\")\n",
    "except Exception as e:\n",
    "    print(f\"ERROR: {type(e).__name__} - {e}\")"
   ]
  },
  {
   "cell_type": "code",
   "execution_count": null,
   "id": "72820682-fb48-4689-906b-02a6d7483088",
   "metadata": {},
   "outputs": [],
   "source": []
  }
 ],
 "metadata": {
  "kernelspec": {
   "display_name": "Python [conda env:base] *",
   "language": "python",
   "name": "conda-base-py"
  },
  "language_info": {
   "codemirror_mode": {
    "name": "ipython",
    "version": 3
   },
   "file_extension": ".py",
   "mimetype": "text/x-python",
   "name": "python",
   "nbconvert_exporter": "python",
   "pygments_lexer": "ipython3",
   "version": "3.12.7"
  }
 },
 "nbformat": 4,
 "nbformat_minor": 5
}
